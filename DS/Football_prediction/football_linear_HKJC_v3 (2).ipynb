{
 "cells": [
  {
   "cell_type": "code",
   "execution_count": 7,
   "id": "e1a463db-c17d-4868-9b05-29cded330ded",
   "metadata": {},
   "outputs": [],
   "source": [
    "import pandas as pd\n",
    "import numpy as np\n",
    "import shin\n",
    "from sklearn.metrics import *"
   ]
  },
  {
   "cell_type": "code",
   "execution_count": 8,
   "id": "71839855-d856-46ca-8191-bc6c943c19a2",
   "metadata": {},
   "outputs": [],
   "source": [
    "def shin_proba(data_odd):\n",
    "  data_odd_copy = data_odd.copy() \n",
    "\n",
    "  for i in range(data_odd.shape[0]):\n",
    "    data_odd_copy.iloc[i] = np.array(shin.calculate_implied_probabilities(data_odd_copy.iloc[i]))\n",
    "\n",
    "  return data_odd_copy"
   ]
  },
  {
   "cell_type": "code",
   "execution_count": 9,
   "id": "b2aeb4fa-8a5f-480f-bb01-6620e9185864",
   "metadata": {},
   "outputs": [
    {
     "ename": "FileNotFoundError",
     "evalue": "[Errno 2] No such file or directory: '/Users/jokerlaugh/new_work/football/data_scraper/base_data.csv'",
     "output_type": "error",
     "traceback": [
      "\u001b[0;31m---------------------------------------------------------------------------\u001b[0m",
      "\u001b[0;31mFileNotFoundError\u001b[0m                         Traceback (most recent call last)",
      "Cell \u001b[0;32mIn[9], line 1\u001b[0m\n\u001b[0;32m----> 1\u001b[0m temp \u001b[38;5;241m=\u001b[39m pd\u001b[38;5;241m.\u001b[39mconcat([\u001b[43mpd\u001b[49m\u001b[38;5;241;43m.\u001b[39;49m\u001b[43mread_csv\u001b[49m\u001b[43m(\u001b[49m\u001b[38;5;124;43m\"\u001b[39;49m\u001b[38;5;124;43m~/new_work/football/data_scraper/base_data.csv\u001b[39;49m\u001b[38;5;124;43m\"\u001b[39;49m\u001b[43m)\u001b[49m])\n\u001b[1;32m      2\u001b[0m temp[\u001b[38;5;124m'\u001b[39m\u001b[38;5;124mDate\u001b[39m\u001b[38;5;124m'\u001b[39m] \u001b[38;5;241m=\u001b[39m pd\u001b[38;5;241m.\u001b[39mto_datetime(temp[\u001b[38;5;124m'\u001b[39m\u001b[38;5;124mKick Off Time\u001b[39m\u001b[38;5;124m'\u001b[39m])\n\u001b[1;32m      3\u001b[0m temp \u001b[38;5;241m=\u001b[39m temp\u001b[38;5;241m.\u001b[39msort_values(by\u001b[38;5;241m=\u001b[39m[\u001b[38;5;124m'\u001b[39m\u001b[38;5;124mDate\u001b[39m\u001b[38;5;124m'\u001b[39m], ascending\u001b[38;5;241m=\u001b[39m\u001b[38;5;28;01mTrue\u001b[39;00m)\n",
      "File \u001b[0;32m~/Desktop/DataScience/.venv/lib/python3.12/site-packages/pandas/io/parsers/readers.py:1026\u001b[0m, in \u001b[0;36mread_csv\u001b[0;34m(filepath_or_buffer, sep, delimiter, header, names, index_col, usecols, dtype, engine, converters, true_values, false_values, skipinitialspace, skiprows, skipfooter, nrows, na_values, keep_default_na, na_filter, verbose, skip_blank_lines, parse_dates, infer_datetime_format, keep_date_col, date_parser, date_format, dayfirst, cache_dates, iterator, chunksize, compression, thousands, decimal, lineterminator, quotechar, quoting, doublequote, escapechar, comment, encoding, encoding_errors, dialect, on_bad_lines, delim_whitespace, low_memory, memory_map, float_precision, storage_options, dtype_backend)\u001b[0m\n\u001b[1;32m   1013\u001b[0m kwds_defaults \u001b[38;5;241m=\u001b[39m _refine_defaults_read(\n\u001b[1;32m   1014\u001b[0m     dialect,\n\u001b[1;32m   1015\u001b[0m     delimiter,\n\u001b[0;32m   (...)\u001b[0m\n\u001b[1;32m   1022\u001b[0m     dtype_backend\u001b[38;5;241m=\u001b[39mdtype_backend,\n\u001b[1;32m   1023\u001b[0m )\n\u001b[1;32m   1024\u001b[0m kwds\u001b[38;5;241m.\u001b[39mupdate(kwds_defaults)\n\u001b[0;32m-> 1026\u001b[0m \u001b[38;5;28;01mreturn\u001b[39;00m \u001b[43m_read\u001b[49m\u001b[43m(\u001b[49m\u001b[43mfilepath_or_buffer\u001b[49m\u001b[43m,\u001b[49m\u001b[43m \u001b[49m\u001b[43mkwds\u001b[49m\u001b[43m)\u001b[49m\n",
      "File \u001b[0;32m~/Desktop/DataScience/.venv/lib/python3.12/site-packages/pandas/io/parsers/readers.py:620\u001b[0m, in \u001b[0;36m_read\u001b[0;34m(filepath_or_buffer, kwds)\u001b[0m\n\u001b[1;32m    617\u001b[0m _validate_names(kwds\u001b[38;5;241m.\u001b[39mget(\u001b[38;5;124m\"\u001b[39m\u001b[38;5;124mnames\u001b[39m\u001b[38;5;124m\"\u001b[39m, \u001b[38;5;28;01mNone\u001b[39;00m))\n\u001b[1;32m    619\u001b[0m \u001b[38;5;66;03m# Create the parser.\u001b[39;00m\n\u001b[0;32m--> 620\u001b[0m parser \u001b[38;5;241m=\u001b[39m \u001b[43mTextFileReader\u001b[49m\u001b[43m(\u001b[49m\u001b[43mfilepath_or_buffer\u001b[49m\u001b[43m,\u001b[49m\u001b[43m \u001b[49m\u001b[38;5;241;43m*\u001b[39;49m\u001b[38;5;241;43m*\u001b[39;49m\u001b[43mkwds\u001b[49m\u001b[43m)\u001b[49m\n\u001b[1;32m    622\u001b[0m \u001b[38;5;28;01mif\u001b[39;00m chunksize \u001b[38;5;129;01mor\u001b[39;00m iterator:\n\u001b[1;32m    623\u001b[0m     \u001b[38;5;28;01mreturn\u001b[39;00m parser\n",
      "File \u001b[0;32m~/Desktop/DataScience/.venv/lib/python3.12/site-packages/pandas/io/parsers/readers.py:1620\u001b[0m, in \u001b[0;36mTextFileReader.__init__\u001b[0;34m(self, f, engine, **kwds)\u001b[0m\n\u001b[1;32m   1617\u001b[0m     \u001b[38;5;28mself\u001b[39m\u001b[38;5;241m.\u001b[39moptions[\u001b[38;5;124m\"\u001b[39m\u001b[38;5;124mhas_index_names\u001b[39m\u001b[38;5;124m\"\u001b[39m] \u001b[38;5;241m=\u001b[39m kwds[\u001b[38;5;124m\"\u001b[39m\u001b[38;5;124mhas_index_names\u001b[39m\u001b[38;5;124m\"\u001b[39m]\n\u001b[1;32m   1619\u001b[0m \u001b[38;5;28mself\u001b[39m\u001b[38;5;241m.\u001b[39mhandles: IOHandles \u001b[38;5;241m|\u001b[39m \u001b[38;5;28;01mNone\u001b[39;00m \u001b[38;5;241m=\u001b[39m \u001b[38;5;28;01mNone\u001b[39;00m\n\u001b[0;32m-> 1620\u001b[0m \u001b[38;5;28mself\u001b[39m\u001b[38;5;241m.\u001b[39m_engine \u001b[38;5;241m=\u001b[39m \u001b[38;5;28;43mself\u001b[39;49m\u001b[38;5;241;43m.\u001b[39;49m\u001b[43m_make_engine\u001b[49m\u001b[43m(\u001b[49m\u001b[43mf\u001b[49m\u001b[43m,\u001b[49m\u001b[43m \u001b[49m\u001b[38;5;28;43mself\u001b[39;49m\u001b[38;5;241;43m.\u001b[39;49m\u001b[43mengine\u001b[49m\u001b[43m)\u001b[49m\n",
      "File \u001b[0;32m~/Desktop/DataScience/.venv/lib/python3.12/site-packages/pandas/io/parsers/readers.py:1880\u001b[0m, in \u001b[0;36mTextFileReader._make_engine\u001b[0;34m(self, f, engine)\u001b[0m\n\u001b[1;32m   1878\u001b[0m     \u001b[38;5;28;01mif\u001b[39;00m \u001b[38;5;124m\"\u001b[39m\u001b[38;5;124mb\u001b[39m\u001b[38;5;124m\"\u001b[39m \u001b[38;5;129;01mnot\u001b[39;00m \u001b[38;5;129;01min\u001b[39;00m mode:\n\u001b[1;32m   1879\u001b[0m         mode \u001b[38;5;241m+\u001b[39m\u001b[38;5;241m=\u001b[39m \u001b[38;5;124m\"\u001b[39m\u001b[38;5;124mb\u001b[39m\u001b[38;5;124m\"\u001b[39m\n\u001b[0;32m-> 1880\u001b[0m \u001b[38;5;28mself\u001b[39m\u001b[38;5;241m.\u001b[39mhandles \u001b[38;5;241m=\u001b[39m \u001b[43mget_handle\u001b[49m\u001b[43m(\u001b[49m\n\u001b[1;32m   1881\u001b[0m \u001b[43m    \u001b[49m\u001b[43mf\u001b[49m\u001b[43m,\u001b[49m\n\u001b[1;32m   1882\u001b[0m \u001b[43m    \u001b[49m\u001b[43mmode\u001b[49m\u001b[43m,\u001b[49m\n\u001b[1;32m   1883\u001b[0m \u001b[43m    \u001b[49m\u001b[43mencoding\u001b[49m\u001b[38;5;241;43m=\u001b[39;49m\u001b[38;5;28;43mself\u001b[39;49m\u001b[38;5;241;43m.\u001b[39;49m\u001b[43moptions\u001b[49m\u001b[38;5;241;43m.\u001b[39;49m\u001b[43mget\u001b[49m\u001b[43m(\u001b[49m\u001b[38;5;124;43m\"\u001b[39;49m\u001b[38;5;124;43mencoding\u001b[39;49m\u001b[38;5;124;43m\"\u001b[39;49m\u001b[43m,\u001b[49m\u001b[43m \u001b[49m\u001b[38;5;28;43;01mNone\u001b[39;49;00m\u001b[43m)\u001b[49m\u001b[43m,\u001b[49m\n\u001b[1;32m   1884\u001b[0m \u001b[43m    \u001b[49m\u001b[43mcompression\u001b[49m\u001b[38;5;241;43m=\u001b[39;49m\u001b[38;5;28;43mself\u001b[39;49m\u001b[38;5;241;43m.\u001b[39;49m\u001b[43moptions\u001b[49m\u001b[38;5;241;43m.\u001b[39;49m\u001b[43mget\u001b[49m\u001b[43m(\u001b[49m\u001b[38;5;124;43m\"\u001b[39;49m\u001b[38;5;124;43mcompression\u001b[39;49m\u001b[38;5;124;43m\"\u001b[39;49m\u001b[43m,\u001b[49m\u001b[43m \u001b[49m\u001b[38;5;28;43;01mNone\u001b[39;49;00m\u001b[43m)\u001b[49m\u001b[43m,\u001b[49m\n\u001b[1;32m   1885\u001b[0m \u001b[43m    \u001b[49m\u001b[43mmemory_map\u001b[49m\u001b[38;5;241;43m=\u001b[39;49m\u001b[38;5;28;43mself\u001b[39;49m\u001b[38;5;241;43m.\u001b[39;49m\u001b[43moptions\u001b[49m\u001b[38;5;241;43m.\u001b[39;49m\u001b[43mget\u001b[49m\u001b[43m(\u001b[49m\u001b[38;5;124;43m\"\u001b[39;49m\u001b[38;5;124;43mmemory_map\u001b[39;49m\u001b[38;5;124;43m\"\u001b[39;49m\u001b[43m,\u001b[49m\u001b[43m \u001b[49m\u001b[38;5;28;43;01mFalse\u001b[39;49;00m\u001b[43m)\u001b[49m\u001b[43m,\u001b[49m\n\u001b[1;32m   1886\u001b[0m \u001b[43m    \u001b[49m\u001b[43mis_text\u001b[49m\u001b[38;5;241;43m=\u001b[39;49m\u001b[43mis_text\u001b[49m\u001b[43m,\u001b[49m\n\u001b[1;32m   1887\u001b[0m \u001b[43m    \u001b[49m\u001b[43merrors\u001b[49m\u001b[38;5;241;43m=\u001b[39;49m\u001b[38;5;28;43mself\u001b[39;49m\u001b[38;5;241;43m.\u001b[39;49m\u001b[43moptions\u001b[49m\u001b[38;5;241;43m.\u001b[39;49m\u001b[43mget\u001b[49m\u001b[43m(\u001b[49m\u001b[38;5;124;43m\"\u001b[39;49m\u001b[38;5;124;43mencoding_errors\u001b[39;49m\u001b[38;5;124;43m\"\u001b[39;49m\u001b[43m,\u001b[49m\u001b[43m \u001b[49m\u001b[38;5;124;43m\"\u001b[39;49m\u001b[38;5;124;43mstrict\u001b[39;49m\u001b[38;5;124;43m\"\u001b[39;49m\u001b[43m)\u001b[49m\u001b[43m,\u001b[49m\n\u001b[1;32m   1888\u001b[0m \u001b[43m    \u001b[49m\u001b[43mstorage_options\u001b[49m\u001b[38;5;241;43m=\u001b[39;49m\u001b[38;5;28;43mself\u001b[39;49m\u001b[38;5;241;43m.\u001b[39;49m\u001b[43moptions\u001b[49m\u001b[38;5;241;43m.\u001b[39;49m\u001b[43mget\u001b[49m\u001b[43m(\u001b[49m\u001b[38;5;124;43m\"\u001b[39;49m\u001b[38;5;124;43mstorage_options\u001b[39;49m\u001b[38;5;124;43m\"\u001b[39;49m\u001b[43m,\u001b[49m\u001b[43m \u001b[49m\u001b[38;5;28;43;01mNone\u001b[39;49;00m\u001b[43m)\u001b[49m\u001b[43m,\u001b[49m\n\u001b[1;32m   1889\u001b[0m \u001b[43m\u001b[49m\u001b[43m)\u001b[49m\n\u001b[1;32m   1890\u001b[0m \u001b[38;5;28;01massert\u001b[39;00m \u001b[38;5;28mself\u001b[39m\u001b[38;5;241m.\u001b[39mhandles \u001b[38;5;129;01mis\u001b[39;00m \u001b[38;5;129;01mnot\u001b[39;00m \u001b[38;5;28;01mNone\u001b[39;00m\n\u001b[1;32m   1891\u001b[0m f \u001b[38;5;241m=\u001b[39m \u001b[38;5;28mself\u001b[39m\u001b[38;5;241m.\u001b[39mhandles\u001b[38;5;241m.\u001b[39mhandle\n",
      "File \u001b[0;32m~/Desktop/DataScience/.venv/lib/python3.12/site-packages/pandas/io/common.py:873\u001b[0m, in \u001b[0;36mget_handle\u001b[0;34m(path_or_buf, mode, encoding, compression, memory_map, is_text, errors, storage_options)\u001b[0m\n\u001b[1;32m    868\u001b[0m \u001b[38;5;28;01melif\u001b[39;00m \u001b[38;5;28misinstance\u001b[39m(handle, \u001b[38;5;28mstr\u001b[39m):\n\u001b[1;32m    869\u001b[0m     \u001b[38;5;66;03m# Check whether the filename is to be opened in binary mode.\u001b[39;00m\n\u001b[1;32m    870\u001b[0m     \u001b[38;5;66;03m# Binary mode does not support 'encoding' and 'newline'.\u001b[39;00m\n\u001b[1;32m    871\u001b[0m     \u001b[38;5;28;01mif\u001b[39;00m ioargs\u001b[38;5;241m.\u001b[39mencoding \u001b[38;5;129;01mand\u001b[39;00m \u001b[38;5;124m\"\u001b[39m\u001b[38;5;124mb\u001b[39m\u001b[38;5;124m\"\u001b[39m \u001b[38;5;129;01mnot\u001b[39;00m \u001b[38;5;129;01min\u001b[39;00m ioargs\u001b[38;5;241m.\u001b[39mmode:\n\u001b[1;32m    872\u001b[0m         \u001b[38;5;66;03m# Encoding\u001b[39;00m\n\u001b[0;32m--> 873\u001b[0m         handle \u001b[38;5;241m=\u001b[39m \u001b[38;5;28;43mopen\u001b[39;49m\u001b[43m(\u001b[49m\n\u001b[1;32m    874\u001b[0m \u001b[43m            \u001b[49m\u001b[43mhandle\u001b[49m\u001b[43m,\u001b[49m\n\u001b[1;32m    875\u001b[0m \u001b[43m            \u001b[49m\u001b[43mioargs\u001b[49m\u001b[38;5;241;43m.\u001b[39;49m\u001b[43mmode\u001b[49m\u001b[43m,\u001b[49m\n\u001b[1;32m    876\u001b[0m \u001b[43m            \u001b[49m\u001b[43mencoding\u001b[49m\u001b[38;5;241;43m=\u001b[39;49m\u001b[43mioargs\u001b[49m\u001b[38;5;241;43m.\u001b[39;49m\u001b[43mencoding\u001b[49m\u001b[43m,\u001b[49m\n\u001b[1;32m    877\u001b[0m \u001b[43m            \u001b[49m\u001b[43merrors\u001b[49m\u001b[38;5;241;43m=\u001b[39;49m\u001b[43merrors\u001b[49m\u001b[43m,\u001b[49m\n\u001b[1;32m    878\u001b[0m \u001b[43m            \u001b[49m\u001b[43mnewline\u001b[49m\u001b[38;5;241;43m=\u001b[39;49m\u001b[38;5;124;43m\"\u001b[39;49m\u001b[38;5;124;43m\"\u001b[39;49m\u001b[43m,\u001b[49m\n\u001b[1;32m    879\u001b[0m \u001b[43m        \u001b[49m\u001b[43m)\u001b[49m\n\u001b[1;32m    880\u001b[0m     \u001b[38;5;28;01melse\u001b[39;00m:\n\u001b[1;32m    881\u001b[0m         \u001b[38;5;66;03m# Binary mode\u001b[39;00m\n\u001b[1;32m    882\u001b[0m         handle \u001b[38;5;241m=\u001b[39m \u001b[38;5;28mopen\u001b[39m(handle, ioargs\u001b[38;5;241m.\u001b[39mmode)\n",
      "\u001b[0;31mFileNotFoundError\u001b[0m: [Errno 2] No such file or directory: '/Users/jokerlaugh/new_work/football/data_scraper/base_data.csv'"
     ]
    }
   ],
   "source": [
    "temp = pd.concat([pd.read_csv(\"~/new_work/football/data_scraper/base_data.csv\")])\n",
    "temp['Date'] = pd.to_datetime(temp['Kick Off Time'])\n",
    "temp = temp.sort_values(by=['Date'], ascending=True)\n",
    "temp"
   ]
  },
  {
   "cell_type": "code",
   "execution_count": 70,
   "id": "e3a3c217-e4ef-4137-a5c5-501cba58c5b1",
   "metadata": {},
   "outputs": [],
   "source": [
    "temp = pd.concat([pd.read_csv(\"~/new_work/football/data_scraper/extend_data.csv\")])\n",
    "temp['Date'] = pd.to_datetime(temp['Kick Off Time'])\n",
    "temp = temp.sort_values(by=['Date'], ascending=True)\n",
    "temp"
   ]
  },
  {
   "cell_type": "code",
   "execution_count": 71,
   "id": "9c094766-1285-4c33-a49d-fe31253237c7",
   "metadata": {},
   "outputs": [],
   "source": [
    "#start form 2024-10-24\n",
    "data = pd.concat([pd.read_csv(\"~/new_work/football/data_scraper/base_data.csv\"),\n",
    "                  pd.read_csv(\"~/new_work/football/data_scraper/extend_data.csv\")],\n",
    "                 axis=0)\n",
    "'''data = pd.concat([pd.read_csv(\"~/new_work/football/data_scraper/extend_data.csv\")],\n",
    "                 axis=0)'''\n",
    "data = data[['Kick Off Time', 'Home Result', 'Away Result', 'Home Odds', 'Draw Odds', 'Away Odds']]\n",
    "data['FTR'] = 0\n",
    "data.loc[data['Home Result'] > data['Away Result'], 'FTR'] = 0\n",
    "data.loc[data['Home Result'] == data['Away Result'], 'FTR'] = 1\n",
    "data.loc[data['Home Result'] < data['Away Result'], 'FTR'] = 2\n",
    "data['Date'] = pd.to_datetime(data['Kick Off Time'])\n",
    "data = data.sort_values(by=['Date'], ascending=True)\n",
    "data = data.reset_index(drop=True)\n",
    "data = data.rename(columns={'Home Odds': 'B365H',\n",
    "                                    'Draw Odds': 'B365D',\n",
    "                                    'Away Odds': 'B365A',\n",
    "                                    'FTR': 'FTR'})\n",
    "#data = data.dropna()\n",
    "\n",
    "#'PSH', 'PSD', 'PSA'\n",
    "B365_odd = data[['B365H', 'B365D', 'B365A']]\n",
    "data[['B365H', 'B365D', 'B365A']] = shin_proba(data[['B365H', 'B365D', 'B365A']])\n",
    "\n",
    "#data = data.dropna()\n",
    "number = 16384\n",
    "#data = data.iloc[(-number):]\n",
    "#B365_odd = B365_odd.iloc[(-number):]\n",
    "number = round(data.shape[0]*0.2)\n",
    "#number = 2048"
   ]
  },
  {
   "cell_type": "code",
   "execution_count": 72,
   "id": "7996a865-f117-4539-a87b-77d0496210ef",
   "metadata": {},
   "outputs": [],
   "source": [
    "data"
   ]
  },
  {
   "cell_type": "code",
   "execution_count": 73,
   "id": "58bc918e-14e5-40e4-82fe-e1b43218e224",
   "metadata": {},
   "outputs": [],
   "source": [
    "import numpy as np\n",
    "\n",
    "def project_to_simplex(y):\n",
    "    \"\"\"\n",
    "    Projects a vector y onto the probability simplex.\n",
    "\n",
    "    Parameters:\n",
    "    y (np.ndarray): Input vector of shape (D,).\n",
    "\n",
    "    Returns:\n",
    "    np.ndarray: Projected vector on the probability simplex.\n",
    "    \"\"\"\n",
    "    y = y.flatten()\n",
    "    # Ensure y is a NumPy array of type float\n",
    "    y = np.asarray(y, dtype=np.float64)\n",
    "    \n",
    "    # Sort y in descending order\n",
    "    u = np.sort(y)[::-1]\n",
    "    \n",
    "    # Compute the cumulative sum of u\n",
    "    cssv = np.cumsum(u)\n",
    "    \n",
    "    # Find the rho value using the condition u_j + (1 - cssv_j) / j > 0\n",
    "    rho = np.nonzero(u + (1 - cssv) / np.arange(1, len(u)+1) > 0)[0]\n",
    "    \n",
    "    if len(rho) == 0:\n",
    "        rho = 0\n",
    "    else:\n",
    "        rho = rho[-1]\n",
    "    \n",
    "    # Compute the Lagrange multiplier lambda\n",
    "    lambda_val = (1 - cssv[rho]) / (rho + 1)\n",
    "    \n",
    "    # Compute the projected vector\n",
    "    w = np.maximum(y + lambda_val, 0)\n",
    "    \n",
    "    return w"
   ]
  },
  {
   "cell_type": "code",
   "execution_count": null,
   "id": "97cd4519-45e3-4f26-a232-3fa23f4c9ef7",
   "metadata": {},
   "outputs": [],
   "source": []
  },
  {
   "cell_type": "code",
   "execution_count": 74,
   "id": "e1670523-ced9-4b5c-a4cc-16c05fd13554",
   "metadata": {},
   "outputs": [],
   "source": [
    "def kalman_opt(parameter):\n",
    "    F = np.eye(6)\n",
    "    '''Q = np.array([[parameter[0],0,0,0,0,0],\n",
    "                  [0,parameter[1],0,0,0,0],\n",
    "                  [0,0,parameter[2],0,0,0],\n",
    "                  [0,0,0,parameter[3],0,0],\n",
    "                  [0,0,0,0,parameter[4],0],\n",
    "                  [0,0,0,0,0,parameter[5]]])'''\n",
    "    '''Q = np.array([[0,0,0,0,0,0],\n",
    "                  [0,0,0,0,0,0],\n",
    "                  [0,0,0,0,0,0],\n",
    "                  [0,0,0,parameter[0],0,0],\n",
    "                  [0,0,0,0,parameter[1],0],\n",
    "                  [0,0,0,0,0,parameter[2]]])'''\n",
    "    gamma = parameter[0]\n",
    "    #q_values = parameter[1:]\n",
    "    Q = np.eye(6)\n",
    "    #Q = np.diag(q_values)\n",
    "    #Q = Q*parameter[0]\n",
    "    x = np.array([[1],\n",
    "                  [1],\n",
    "                  [1],\n",
    "                  [0],\n",
    "                  [0],\n",
    "                  [0]])\n",
    "    P = np.eye(6)\n",
    "    '''P = np.array([[0,0,0,0,0,0],\n",
    "                  [0,0,0,0,0,0],\n",
    "                  [0,0,0,0,0,0],\n",
    "                  [0,0,0,1,0,0],\n",
    "                  [0,0,0,0,1,0],\n",
    "                  [0,0,0,0,0,1]])'''\n",
    "    \n",
    "    FTR_dummies = pd.get_dummies(data['FTR'].iloc[:number])\n",
    "    test_record = np.empty((0,3))\n",
    "    for i in range(number):\n",
    "        p1 = data['B365H'].iloc[i]\n",
    "        p2 = data['B365D'].iloc[i]\n",
    "        p3 = data['B365A'].iloc[i]\n",
    "        H = np.array([[p1,0,0,1,0,0],\n",
    "                      [0,p2,0,0,1,0],\n",
    "                      [0,0,p3,0,0,1]])\n",
    "        \n",
    "        r1 = data['B365H'].iloc[i]*(1-data['B365H'].iloc[i])\n",
    "        r2 = data['B365D'].iloc[i]*(1-data['B365D'].iloc[i])\n",
    "        r3 = data['B365A'].iloc[i]*(1-data['B365A'].iloc[i])\n",
    "        r12 = -data['B365H'].iloc[i]*data['B365D'].iloc[i]*0\n",
    "        r13 = -data['B365H'].iloc[i]*data['B365A'].iloc[i]*0\n",
    "        r23 = -data['B365D'].iloc[i]*data['B365A'].iloc[i]*0\n",
    "        R = np.array([[r1,r12,r13],\n",
    "                      [r12,r2,r23],\n",
    "                      [r13,r23,r3]])\n",
    "    \n",
    "        x_pred = F @ x\n",
    "        P_pred = F @ P @ F.T + Q\n",
    "    \n",
    "        prediction = (H @ x_pred).T\n",
    "        '''if(min(prediction[0]) < 0):\n",
    "            prediction = prediction - min(prediction[0])\n",
    "        test_record = np.vstack([test_record, prediction/prediction.sum()])'''\n",
    "        prediction = project_to_simplex(prediction).reshape(-1, 3)\n",
    "        test_record = np.vstack([test_record, prediction])\n",
    "    \n",
    "        z = np.array([[FTR_dummies[0].iloc[i]],\n",
    "                      [FTR_dummies[1].iloc[i]],\n",
    "                      [FTR_dummies[2].iloc[i]]])\n",
    "        K = P_pred @ H.T @ np.linalg.inv(H @ P_pred @ H.T + R)\n",
    "        x = x_pred + K @ (z - H @ x_pred)\n",
    "        P = (np.eye(6) - K @ H) @ P_pred @ (np.eye(6) - K @ H).T + K @ R @ K.T\n",
    "    \n",
    "        '''x = np.array([[1],\n",
    "                      [1],\n",
    "                      [1],\n",
    "                      [x[3][0]],\n",
    "                      [x[4][0]],\n",
    "                      [x[5][0]]])'''\n",
    "        e_k = x-x_pred\n",
    "        Q = gamma*Q + (1-gamma)* (e_k @ e_k.T)\n",
    "    \n",
    "    return log_loss(FTR_dummies, test_record)\n",
    "    #return multiclass_focal_log_loss(FTR_dummies, test_record)\n",
    "\n",
    "from scipy.optimize import *\n",
    "opt_result = minimize(kalman_opt,\n",
    "                      x0=[0.5],\n",
    "                      method=\"Nelder-Mead\",\n",
    "                      options={'adaptive':True, 'disp':True},\n",
    "                  bounds=[(0, 1)])\n",
    "'''opt_result = differential_evolution(kalman_opt,\n",
    "                  bounds=[(0, 1),(0, 1),(0, 1),(0, 1),(0, 1),(0, 1)],\n",
    "                                   workers=-1)'''\n",
    "'''opt_result = shgo(kalman_opt,\n",
    "                  bounds=[(0, 1),(0, 1),(0, 1),(0, 1),(0, 1),(0, 1)],\n",
    "                                   workers=-1)'''\n",
    "'''opt_result = differential_evolution(kalman_opt,\n",
    "                  bounds=[(0, 1)],\n",
    "                                    init='sobol',\n",
    "                                   workers=-1)'''\n",
    "print(opt_result)"
   ]
  },
  {
   "cell_type": "code",
   "execution_count": null,
   "id": "0eeb5b46-1f7b-4aba-b386-0a5400e1ac2f",
   "metadata": {},
   "outputs": [],
   "source": []
  },
  {
   "cell_type": "code",
   "execution_count": 123,
   "id": "74e2e4b5-f487-41b1-8b6b-fe2009e9fef7",
   "metadata": {},
   "outputs": [],
   "source": [
    "F = np.eye(6)\n",
    "Q = np.eye(6)\n",
    "#Q = Q*8.594e-05\n",
    "gamma = opt_result['x'][0]\n",
    "#gamma = 0.5\n",
    "x = np.array([[1],\n",
    "              [1],\n",
    "              [1],\n",
    "              [0],\n",
    "              [0],\n",
    "              [0]])\n",
    "P = np.eye(6)\n",
    "\n",
    "FTR_dummies = pd.get_dummies(data['FTR'])\n",
    "test_record = np.empty((0,3))\n",
    "for i in range(data.shape[0]):\n",
    "    '''if(i+128 > data.shape[0]-1):\n",
    "        break'''\n",
    "    \n",
    "    p1 = data['B365H'].iloc[i]\n",
    "    p2 = data['B365D'].iloc[i]\n",
    "    p3 = data['B365A'].iloc[i]\n",
    "    H = np.array([[p1,0,0,1,0,0],\n",
    "                  [0,p2,0,0,1,0],\n",
    "                  [0,0,p3,0,0,1]])\n",
    "    \n",
    "    r1 = data['B365H'].iloc[i]*(1-data['B365H'].iloc[i])\n",
    "    r2 = data['B365D'].iloc[i]*(1-data['B365D'].iloc[i])\n",
    "    r3 = data['B365A'].iloc[i]*(1-data['B365A'].iloc[i])\n",
    "    r12 = -data['B365H'].iloc[i]*data['B365D'].iloc[i]*0\n",
    "    r13 = -data['B365H'].iloc[i]*data['B365A'].iloc[i]*0\n",
    "    r23 = -data['B365D'].iloc[i]*data['B365A'].iloc[i]*0\n",
    "    R = np.array([[r1,r12,r13],\n",
    "                  [r12,r2,r23],\n",
    "                  [r13,r23,r3]])\n",
    "\n",
    "    x_pred = F @ x\n",
    "    P_pred = F @ P @ F.T + Q\n",
    "\n",
    "    if(i+128 <= data.shape[0]-1):\n",
    "        p1_delay = data['B365H'].iloc[i+128]\n",
    "        p2_delay = data['B365D'].iloc[i+128]\n",
    "        p3_delay = data['B365A'].iloc[i+128]\n",
    "        H_delay = np.array([[p1_delay,0,0,1,0,0],\n",
    "                      [0,p2_delay,0,0,1,0],\n",
    "                      [0,0,p3_delay,0,0,1]])\n",
    "        prediction = (H_delay @ x_pred).T\n",
    "        prediction = project_to_simplex(prediction).reshape(-1, 3)\n",
    "        test_record = np.vstack([test_record, prediction.copy()])\n",
    "    \n",
    "\n",
    "    z = np.array([[FTR_dummies[0].iloc[i]],\n",
    "                  [FTR_dummies[1].iloc[i]],\n",
    "                  [FTR_dummies[2].iloc[i]]])\n",
    "    K = P_pred @ H.T @ np.linalg.inv(H @ P_pred @ H.T + R)\n",
    "    x = x_pred + K @ (z - H @ x_pred)\n",
    "    P = (np.eye(6) - K @ H) @ P_pred @ (np.eye(6) - K @ H).T + K @ R @ K.T\n",
    "    \n",
    "    e_k = x-x_pred\n",
    "    Q = gamma*Q + (1-gamma)* (e_k @ e_k.T)\n",
    "\n",
    "    '''x = np.array([[1],\n",
    "              [1],\n",
    "              [1],\n",
    "              [0],\n",
    "              [0],\n",
    "              [0]])'''"
   ]
  },
  {
   "cell_type": "code",
   "execution_count": 124,
   "id": "2cd253ff-3e0e-4677-bcc5-5f48173ce9b4",
   "metadata": {},
   "outputs": [],
   "source": [
    "prediction.copy()"
   ]
  },
  {
   "cell_type": "code",
   "execution_count": 125,
   "id": "d0d2a3e7-8ad7-45ed-a67d-78c157ceaf87",
   "metadata": {},
   "outputs": [],
   "source": [
    "x"
   ]
  },
  {
   "cell_type": "code",
   "execution_count": 126,
   "id": "cb10f121-2f54-473e-ac2b-a371a486e981",
   "metadata": {},
   "outputs": [],
   "source": [
    "x_pred"
   ]
  },
  {
   "cell_type": "code",
   "execution_count": 127,
   "id": "a00936d7-fe2f-4b42-ae51-f3d6eb9e8436",
   "metadata": {},
   "outputs": [],
   "source": [
    "def nearest_positive_definite(A, epsilon=1e-32, max_iterations=1024):\n",
    "    B = (A + A.T) / 2\n",
    "    _, s, V = np.linalg.svd(B)\n",
    "    H = V.T @ np.diag(s) @ V\n",
    "    A_plus = (B + H) / 2\n",
    "\n",
    "    for _ in range(max_iterations):\n",
    "        A_prev = A_plus\n",
    "        A_plus = (A_prev + A_prev.T) / 2\n",
    "        eigenvalues, eigenvectors = np.linalg.eigh(A_plus)\n",
    "        eigenvalues_positive = np.maximum(eigenvalues, epsilon)\n",
    "        A_plus = eigenvectors @ np.diag(eigenvalues_positive) @ eigenvectors.T\n",
    "\n",
    "        if np.allclose(A_plus, A_prev, atol=1e-32):\n",
    "            break\n",
    "\n",
    "    return A_plus"
   ]
  },
  {
   "cell_type": "code",
   "execution_count": 128,
   "id": "c2415533-2339-4939-b662-8b63a1634049",
   "metadata": {},
   "outputs": [],
   "source": [
    "def downside_risk(returns, risk_free=0):\n",
    "    adj_returns = returns - risk_free\n",
    "    sqr_downside = np.square(np.clip(adj_returns, np.NINF, 0))\n",
    "    return np.sqrt(np.nanmean(sqr_downside) * 252)\n",
    "\n",
    "\n",
    "def sortino(returns, risk_free=0):\n",
    "    adj_returns = returns - risk_free\n",
    "    drisk = downside_risk(adj_returns)\n",
    "\n",
    "    if drisk == 0:\n",
    "        return np.nan\n",
    "\n",
    "    return (np.nanmean(adj_returns) * np.sqrt(252)) / drisk"
   ]
  },
  {
   "cell_type": "code",
   "execution_count": 129,
   "id": "a0d09939-ff78-4826-8634-1e7478032674",
   "metadata": {},
   "outputs": [],
   "source": [
    "import numpy as np\n",
    "from scipy.optimize import *\n",
    "\n",
    "def kelly_criterion_three_outcomes(p, b):\n",
    "    \"\"\"\n",
    "    Calculate the Kelly optimal fractions for three mutually exclusive outcomes.\n",
    "\n",
    "    Parameters:\n",
    "    - p: List or array of probabilities [p_A, p_B, p_C]. Should sum to 1.\n",
    "    - b: List or array of net odds [b_A, b_B, b_C].\n",
    "\n",
    "    Returns:\n",
    "    - Optimal fractions [f_A, f_B, f_C]\n",
    "    - Total bet fraction\n",
    "    \"\"\"\n",
    "\n",
    "    # Convert to numpy arrays\n",
    "    p = np.array(p, dtype=np.float64)\n",
    "    b = np.array(b, dtype=np.float64)\n",
    "    b = b-1\n",
    "\n",
    "    # Normalize probabilities to ensure they sum to 1\n",
    "    if not np.isclose(p.sum(), 1):\n",
    "        p = p / p.sum()\n",
    "        #print(\"Probabilities normalized to sum to 1.\")\n",
    "\n",
    "    # Validate inputs\n",
    "    if any(p <= 0):\n",
    "        raise ValueError(\"All probabilities must be positive.\")\n",
    "    if any(b <= 0):\n",
    "        raise ValueError(\"All odds must be positive.\")\n",
    "\n",
    "    # Initial guess: Proportion based on probabilities\n",
    "    initial_guess = p.copy()*0\n",
    "\n",
    "    # Define the objective function: Negative expected log wealth\n",
    "    def objective(f):\n",
    "        f_A, f_B, f_C = f\n",
    "        wealth_A = 1 + b[0]*f_A - f_B - f_C\n",
    "        wealth_B = 1 + b[1]*f_B - f_A - f_C\n",
    "        wealth_C = 1 + b[2]*f_C - f_A - f_B\n",
    "\n",
    "        # To handle log(0) or negative, return a large penalty\n",
    "        if wealth_A <= 0 or wealth_B <= 0 or wealth_C <= 0:\n",
    "            return 1e10\n",
    "\n",
    "        expected_log_wealth = p[0]*np.log(wealth_A) + p[1]*np.log(wealth_B) + p[2]*np.log(wealth_C)\n",
    "        return -expected_log_wealth  # Negative for minimization\n",
    "\n",
    "    # Constraints:\n",
    "    constraints = [\n",
    "        {\n",
    "            'type': 'ineq',\n",
    "            'fun': lambda f: 0.9999 - np.sum(f)  # 1 - (f_A + f_B + f_C) >= 0\n",
    "        },\n",
    "        {\n",
    "            'type': 'ineq',\n",
    "            'fun': lambda f: 1 + b[0]*f[0] - f[1] - f[2]  # wealth_A > 0\n",
    "        },\n",
    "        {\n",
    "            'type': 'ineq',\n",
    "            'fun': lambda f: 1 + b[1]*f[1] - f[0] - f[2]  # wealth_B > 0\n",
    "        },\n",
    "        {\n",
    "            'type': 'ineq',\n",
    "            'fun': lambda f: 1 + b[2]*f[2] - f[0] - f[1]  # wealth_C > 0\n",
    "        }\n",
    "    ]\n",
    "\n",
    "    # Bounds: 0 <= f_A, f_B, f_C <=1\n",
    "    bounds = [(0, 1) for _ in range(3)]\n",
    "\n",
    "    # Perform the optimization\n",
    "    result = minimize(\n",
    "        objective,\n",
    "        initial_guess,\n",
    "        method='SLSQP',\n",
    "        bounds=bounds,\n",
    "        constraints=constraints,\n",
    "        options={'disp': False, 'ftol':1e-9, 'maxiter':1000}\n",
    "    )\n",
    "    '''result = shgo(\n",
    "        objective,\n",
    "        bounds=bounds,\n",
    "        constraints=constraints,\n",
    "        workers=1\n",
    "    )'''\n",
    "\n",
    "    if not result.success:\n",
    "        # Provide detailed information about the failure\n",
    "        print(\"Optimization Failed!\")\n",
    "        print(\"Message:\", result.message)\n",
    "        # To provide meaningful constraint values, attempt to evaluate constraints at the initial guess\n",
    "        initial_constraints = [constraint['fun'](initial_guess) for constraint in constraints]\n",
    "        print(\"Initial Constraint Values:\")\n",
    "        for i, val in enumerate(initial_constraints):\n",
    "            print(f\"  Constraint {i+1}: {val:.6f} (should be >= 0)\")\n",
    "        # Suggest using fractional Kelly if all else fails\n",
    "        print(\"\\nPossible Reasons:\")\n",
    "        print(\"- The odds are unfavorable given the probabilities.\")\n",
    "        print(\"- The optimizer cannot find feasible bet fractions with the given constraints.\")\n",
    "        print(\"\\nSuggestions:\")\n",
    "        print(\"- Review and adjust the probabilities and odds to ensure feasibility.\")\n",
    "        print(\"- Consider using a fractional Kelly strategy to reduce bet sizes.\")\n",
    "        print(\"- Ensure that the sum of probabilities is 1 and all odds are positive.\")\n",
    "        raise ValueError(\"Optimization failed: \" + result.message)\n",
    "\n",
    "    optimal_fractions = result.x\n",
    "\n",
    "    # Ensure fractions are non-negative and sum does not exceed 1\n",
    "    optimal_fractions = np.clip(optimal_fractions, 0, 1)\n",
    "    total_bet = optimal_fractions.sum()\n",
    "\n",
    "    return optimal_fractions"
   ]
  },
  {
   "cell_type": "code",
   "execution_count": 130,
   "id": "2aed8b0d-8f15-4e67-8b4a-d46d50ac698d",
   "metadata": {},
   "outputs": [],
   "source": [
    "'''{\n",
    "            'type': 'ineq',\n",
    "            'fun': lambda f: 1-( p[0]*(b[0]*f[0] - f[1] - f[2] + f[3])**(-2)+\\\n",
    "            p[1]*(b[1]*f[1] - f[0] - f[2] + f[3])**(-2)+\\\n",
    "            p[2]*(b[2]*f[2] - f[0] - f[1] + f[3])**(-2) )\n",
    "        }'''"
   ]
  },
  {
   "cell_type": "code",
   "execution_count": 131,
   "id": "7adc5fd4-db65-406f-bbc7-fb707d4ca86d",
   "metadata": {},
   "outputs": [],
   "source": [
    "test_record[number-128:].shape"
   ]
  },
  {
   "cell_type": "code",
   "execution_count": 132,
   "id": "bdfcbaa9-8fc7-44c5-b93a-91da0c48b941",
   "metadata": {},
   "outputs": [],
   "source": [
    "B365_odd[number:].shape"
   ]
  },
  {
   "cell_type": "code",
   "execution_count": null,
   "id": "0f7c4033-bc65-4c77-a46d-90949b195f8b",
   "metadata": {},
   "outputs": [],
   "source": []
  },
  {
   "cell_type": "code",
   "execution_count": 133,
   "id": "8622c901-f1ea-465e-9202-9a5432d2fd28",
   "metadata": {
    "scrolled": true
   },
   "outputs": [],
   "source": [
    "from tqdm import *\n",
    "from joblib import Parallel, delayed\n",
    "\n",
    "kelly = test_record[number-128:] - (1 - test_record[number-128:]) / (B365_odd[number:].to_numpy() - 1)\n",
    "def temp_f(i):\n",
    "    return kelly_criterion_three_outcomes(test_record[number-128:][i]+1e-5, B365_odd[number:].to_numpy()[i])\n",
    "'''for i in tqdm(range(kelly.shape[0])):\n",
    "    kelly[i] = kelly_criterion_three_outcomes(test_record[number-128:][i]+1e-5, B365_odd[number:].to_numpy()[i])\n",
    "'''\n",
    "kelly = Parallel(n_jobs=-1)(delayed(temp_f)(i) for i in range(test_record[number-128:].shape[0]))\n",
    "kelly = np.vstack(kelly)"
   ]
  },
  {
   "cell_type": "code",
   "execution_count": null,
   "id": "a84795c7-2124-4ec9-8ca1-1c73806e173d",
   "metadata": {},
   "outputs": [],
   "source": []
  },
  {
   "cell_type": "code",
   "execution_count": null,
   "id": "b32c1762-bc6d-493a-bede-8a2ee3e4e86c",
   "metadata": {},
   "outputs": [],
   "source": [
    "# global_kelly_copy = kelly.copy()\n",
    "def fraction_opt(f):\n",
    "    #global kelly\n",
    "    kelly = global_kelly_copy * f[0]  # or kelly * 0.3 if preferred\n",
    "    kelly = np.clip(kelly, 0, 1)\n",
    "    \n",
    "    # Select the choice with the maximum Kelly fraction\n",
    "    #max_kelly = np.max(kelly, axis=1, keepdims=True)\n",
    "    #choice = (kelly == max_kelly) & (kelly > 0)\n",
    "    choice = (kelly > 0)\n",
    "    \n",
    "    # Convert 'FTR' to one-hot encoding\n",
    "    actual_results = pd.get_dummies(data[['FTR']].iloc[number:], columns=['FTR']).to_numpy()\n",
    "    \n",
    "    # Check if the chosen bet matches the actual result\n",
    "    # Revised to ensure any match is considered correct\n",
    "    is_correct = (choice & actual_results)\n",
    "    \n",
    "    # Extract the odds for the chosen outcomes\n",
    "    #chosen_indices = kelly.argmax(axis=1)\n",
    "    #chosen_odds = B365_odd.to_numpy()[np.arange(len(kelly)), chosen_indices]\n",
    "    chosen_odds = B365_odd.to_numpy()[np.arange(number-128, number-128+len(kelly)), :]\n",
    "    \n",
    "    # Calculate returns\n",
    "    #returns = chosen_odds * kelly.max(axis=1) * is_correct - kelly.max(axis=1)\n",
    "    returns = (chosen_odds * kelly * is_correct).sum(axis=1) - kelly.sum(axis=1)\n",
    "\n",
    "    return -np.log10((1+returns)).sum()\n",
    "\n",
    "opt_result_fraction = differential_evolution(fraction_opt,\n",
    "                                             bounds=[(0, 0.9)],\n",
    "                                             init='sobol',\n",
    "                                             maxiter=10000,\n",
    "                                             workers=-1)\n",
    "print(opt_result_fraction)\n",
    "\n",
    "global_kelly_copy = global_kelly_copy * opt_result_fraction['x'][0]  # or kelly * 0.3 if preferred\n",
    "global_kelly_copy = np.clip(global_kelly_copy, 0, 1)\n",
    "\n",
    "# Select the choice with the maximum Kelly fraction\n",
    "#max_kelly = np.max(kelly, axis=1, keepdims=True)\n",
    "#choice = (kelly == max_kelly) & (kelly > 0)\n",
    "choice = (global_kelly_copy > 0)\n",
    "\n",
    "# Convert 'FTR' to one-hot encoding\n",
    "actual_results = pd.get_dummies(data[['FTR']].iloc[number:], columns=['FTR']).to_numpy()\n",
    "\n",
    "# Check if the chosen bet matches the actual result\n",
    "# Revised to ensure any match is considered correct\n",
    "is_correct = (choice & actual_results)\n",
    "\n",
    "# Extract the odds for the chosen outcomes\n",
    "#chosen_indices = kelly.argmax(axis=1)\n",
    "#chosen_odds = B365_odd.to_numpy()[np.arange(len(kelly)), chosen_indices]\n",
    "chosen_odds = B365_odd.to_numpy()[np.arange(number-128, number-128+len(global_kelly_copy)), :]\n",
    "\n",
    "# Calculate returns\n",
    "#returns = chosen_odds * kelly.max(axis=1) * is_correct - kelly.max(axis=1)\n",
    "returns = (chosen_odds * global_kelly_copy * is_correct).sum(axis=1) - global_kelly_copy.sum(axis=1)"
   ]
  },
  {
   "cell_type": "code",
   "execution_count": 137,
   "id": "109b550f-83bc-4fee-9196-8efdbe60f0e9",
   "metadata": {},
   "outputs": [],
   "source": [
    "pd.get_dummies(data[['FTR']].iloc[number:], columns=['FTR'])"
   ]
  },
  {
   "cell_type": "code",
   "execution_count": 135,
   "id": "046e69d9-475f-4298-aa90-3140ab4aeea3",
   "metadata": {},
   "outputs": [],
   "source": [
    "np.log10(1+returns).sum()"
   ]
  },
  {
   "cell_type": "code",
   "execution_count": null,
   "id": "ed4491a6-57bf-4418-bcff-3ebb89d0a057",
   "metadata": {},
   "outputs": [],
   "source": []
  },
  {
   "cell_type": "code",
   "execution_count": 136,
   "id": "9136fee4-cec5-41e7-a613-338bba10a6f2",
   "metadata": {
    "scrolled": true
   },
   "outputs": [],
   "source": [
    "import matplotlib.pyplot as plt\n",
    "plt.style.use('fivethirtyeight')\n",
    "\n",
    "plt.plot(returns)"
   ]
  },
  {
   "cell_type": "code",
   "execution_count": 88,
   "id": "4a15a617-0633-4e0f-abff-212dfa4dfaf0",
   "metadata": {},
   "outputs": [],
   "source": [
    "kelly.sum(axis=1)"
   ]
  },
  {
   "cell_type": "code",
   "execution_count": 89,
   "id": "bfeb9912-6d53-4b11-b1cb-9f7675042f72",
   "metadata": {},
   "outputs": [],
   "source": [
    "returns"
   ]
  },
  {
   "cell_type": "code",
   "execution_count": 90,
   "id": "de3c4a23-2ad4-4399-bee3-9e1d33f0d75a",
   "metadata": {},
   "outputs": [],
   "source": [
    "kelly.sum(axis=1)"
   ]
  },
  {
   "cell_type": "code",
   "execution_count": 91,
   "id": "a2d91e30-b015-4992-96f0-c84a7e8de84e",
   "metadata": {},
   "outputs": [],
   "source": [
    "kelly"
   ]
  },
  {
   "cell_type": "code",
   "execution_count": 92,
   "id": "caac55ae-5bc3-4ea0-bcbf-af9344a7e6d5",
   "metadata": {},
   "outputs": [],
   "source": [
    "B365_odd"
   ]
  },
  {
   "cell_type": "code",
   "execution_count": 93,
   "id": "454abae1-841b-49ff-9ef3-75452eaa8412",
   "metadata": {},
   "outputs": [],
   "source": [
    "kelly.sum(axis=1)"
   ]
  },
  {
   "cell_type": "code",
   "execution_count": 94,
   "id": "bf65a5fe-6629-4637-9a32-034534c5635c",
   "metadata": {},
   "outputs": [],
   "source": [
    "B365_odd.to_numpy()[np.arange(len(kelly)), :]"
   ]
  },
  {
   "cell_type": "code",
   "execution_count": 95,
   "id": "82b1eec1-7310-4da0-9158-5845539eb58c",
   "metadata": {},
   "outputs": [],
   "source": [
    "is_correct"
   ]
  },
  {
   "cell_type": "code",
   "execution_count": 96,
   "id": "13995cc9-e17a-404f-9b19-889567dea25d",
   "metadata": {},
   "outputs": [],
   "source": [
    "temp = np.log((1+returns))\n",
    "mu = temp.mean()*1\n",
    "var = temp.var()*1\n",
    "\n",
    "m = np.exp(mu+var/2)\n",
    "print(m-1)\n",
    "print((np.exp(var)-1)*np.exp(2*m+var))\n",
    "\n",
    "#print(mu*64)\n",
    "#print(temp.std()*np.sqrt(64))"
   ]
  },
  {
   "cell_type": "code",
   "execution_count": 118,
   "id": "518336e2-5c97-43bf-8464-3a83674382b3",
   "metadata": {},
   "outputs": [],
   "source": [
    "(1.05**2)*(30)"
   ]
  },
  {
   "cell_type": "code",
   "execution_count": 97,
   "id": "2a11df4b-5325-45ad-b74d-efd7fa3deb8f",
   "metadata": {},
   "outputs": [],
   "source": [
    "returns.shape"
   ]
  },
  {
   "cell_type": "code",
   "execution_count": 98,
   "id": "8d4b9d9b-d51f-4d7f-9c7b-1de1cc873a05",
   "metadata": {},
   "outputs": [],
   "source": [
    "np.log10(1+returns).sum()"
   ]
  },
  {
   "cell_type": "code",
   "execution_count": 99,
   "id": "930ee288-2f5c-44dc-b1d2-ec185ec09ef2",
   "metadata": {},
   "outputs": [],
   "source": [
    "np.log10(1+returns).cumsum()"
   ]
  },
  {
   "cell_type": "code",
   "execution_count": 100,
   "id": "cfcbcf3c-59ef-4a58-8105-9decdaebbf4c",
   "metadata": {},
   "outputs": [],
   "source": [
    "import matplotlib.pyplot as plt\n",
    "plt.style.use('fivethirtyeight')\n",
    "\n",
    "#temp = pd.DataFrame(np.log10((1+returns).cumprod()))\n",
    "temp = pd.DataFrame(np.log10(1+returns).cumsum() )\n",
    "temp.index = pd.to_datetime(data.iloc[number:]['Date'].values)\n",
    "#temp = (temp.iloc[0:128*4])\n",
    "#temp\n",
    "temp.plot(figsize=(16,10))\n",
    "\n",
    "#plt.savefig('test.png', dpi=300)"
   ]
  },
  {
   "cell_type": "code",
   "execution_count": 101,
   "id": "14664601-da8d-4c59-8ad8-f4dfed7bdee8",
   "metadata": {},
   "outputs": [],
   "source": [
    "import matplotlib.pyplot as plt\n",
    "plt.style.use('fivethirtyeight')\n",
    "\n",
    "temp = pd.DataFrame((1+returns))\n",
    "#temp.index = pd.to_datetime(data.iloc[number:]['Date'].values)\n",
    "#temp = (temp.iloc[0:128*4])\n",
    "#temp.plot(figsize=(16,10))\n",
    "\n",
    "# If you have cumulative returns\n",
    "cumulative_returns = np.log10(temp[0]).cumsum()\n",
    "cumulative_returns = 10**cumulative_returns\n",
    "\n",
    "# Calculate the running maximum\n",
    "running_max = cumulative_returns.cummax()\n",
    "\n",
    "# Calculate drawdown\n",
    "drawdown = (cumulative_returns - running_max) / running_max\n",
    "\n",
    "# Add drawdown to the DataFrame\n",
    "temp['Drawdown'] = drawdown\n",
    "\n",
    "temp.index = pd.to_datetime(data.iloc[number:]['Date'].values)\n",
    "temp['Drawdown'].plot(figsize=(16*1,10*1))\n",
    "\n",
    "plt.savefig('test.png', dpi=300)"
   ]
  },
  {
   "cell_type": "code",
   "execution_count": 102,
   "id": "7447cc16-406d-4ffa-b12f-ff9864c331b2",
   "metadata": {},
   "outputs": [],
   "source": [
    "import matplotlib.pyplot as plt\n",
    "plt.style.use('fivethirtyeight')\n",
    "\n",
    "temp = pd.DataFrame((1+returns))\n",
    "#temp.index = pd.to_datetime(data.iloc[number:]['Date'].values)\n",
    "#temp = (temp.iloc[0:128*4])\n",
    "#temp.plot(figsize=(16,10))\n",
    "\n",
    "# If you have cumulative returns\n",
    "cumulative_returns = np.log10(temp[0]).cumsum()\n",
    "#cumulative_returns = 10**cumulative_returns\n",
    "\n",
    "# Calculate the running maximum\n",
    "running_max = cumulative_returns.cummax()\n",
    "\n",
    "# Calculate drawdown\n",
    "drawdown = (cumulative_returns) - running_max\n",
    "\n",
    "# Add drawdown to the DataFrame\n",
    "temp['Drawdown'] = drawdown\n",
    "\n",
    "temp.index = pd.to_datetime(data.iloc[number:]['Date'].values)\n",
    "temp['Drawdown'].plot(figsize=(16*1,10*1))\n",
    "\n",
    "plt.savefig('test.png', dpi=300)"
   ]
  },
  {
   "cell_type": "code",
   "execution_count": null,
   "id": "49f5aa70-05ea-4812-9b11-ca5c060a6303",
   "metadata": {},
   "outputs": [],
   "source": []
  },
  {
   "cell_type": "code",
   "execution_count": 103,
   "id": "d2b583de-03e6-4008-aaf9-cc9adeb68d8c",
   "metadata": {},
   "outputs": [],
   "source": [
    "cumulative_returns"
   ]
  },
  {
   "cell_type": "code",
   "execution_count": 104,
   "id": "cf521c57-f130-4760-89b8-2d4d88fd0f61",
   "metadata": {},
   "outputs": [],
   "source": [
    "temp['Drawdown'].min()"
   ]
  },
  {
   "cell_type": "code",
   "execution_count": 105,
   "id": "8a421216-7149-47d3-a1bb-8e683f9cac42",
   "metadata": {},
   "outputs": [],
   "source": [
    "10**(-0.2)"
   ]
  },
  {
   "cell_type": "code",
   "execution_count": 106,
   "id": "f4ca5e18-9ec8-4f52-a942-2d3cc1b22059",
   "metadata": {},
   "outputs": [],
   "source": [
    "data"
   ]
  },
  {
   "cell_type": "code",
   "execution_count": null,
   "id": "da42089c-b6ab-4679-81a8-8d1d3f2d074a",
   "metadata": {},
   "outputs": [],
   "source": []
  },
  {
   "cell_type": "code",
   "execution_count": 107,
   "id": "7e5a9018-9a43-460b-a5be-5014d5e7502d",
   "metadata": {},
   "outputs": [],
   "source": [
    "odd = np.array([\n",
    "2.21,\n",
    "\n",
    "3.35,\n",
    "\n",
    "2.62])\n",
    "shin_p = shin.calculate_implied_probabilities(odd)\n",
    "p1 = shin_p[0]\n",
    "p2 = shin_p[1]\n",
    "p3 = shin_p[2]\n",
    "H = np.array([[p1,0,0,1,0,0],\n",
    "              [0,p2,0,0,1,0],\n",
    "              [0,0,p3,0,0,1]])\n",
    "\n",
    "x_pred = F @ x\n",
    "prediction = (H @ x_pred).T\n",
    "prediction = project_to_simplex(prediction).reshape(-1, 3)\n",
    "#prediction\n",
    "#kelly = prediction - (1-prediction)/(odd-1)\n",
    "#kelly = kelly*opt_result_fraction['x'][0]\n",
    "temp_kelly = kelly_criterion_three_outcomes(prediction.flatten()+1e-8, odd)\n",
    "temp_kelly = temp_kelly*opt_result_fraction['x'][0]\n",
    "\n",
    "\n",
    "np.set_printoptions(suppress=True)\n",
    "#principle = 971\n",
    "principle = 371.30\n",
    "print(np.clip(temp_kelly, 0, 1)*principle)"
   ]
  },
  {
   "cell_type": "code",
   "execution_count": null,
   "id": "a8209cbe-26eb-4472-bf7e-3a9fab62be2d",
   "metadata": {},
   "outputs": [],
   "source": [
    "92.37270152*(5.00-1) - 271.73048245 - 74.15233552"
   ]
  },
  {
   "cell_type": "code",
   "execution_count": null,
   "id": "db4f078a-fd47-4932-8253-4d2ce823ed6f",
   "metadata": {},
   "outputs": [],
   "source": [
    "prediction"
   ]
  },
  {
   "cell_type": "code",
   "execution_count": null,
   "id": "c77758dd-aad2-4cc8-bd05-1051d30fe06b",
   "metadata": {},
   "outputs": [],
   "source": [
    "x_pred"
   ]
  },
  {
   "cell_type": "code",
   "execution_count": null,
   "id": "5269d86e-352e-4e22-a4e5-1b7d5581db3c",
   "metadata": {},
   "outputs": [],
   "source": [
    "(np.clip(temp_kelly, 0, 1)).sum()"
   ]
  },
  {
   "cell_type": "code",
   "execution_count": null,
   "id": "7211e30c-1fdd-4e30-b9a6-7e48ad244cef",
   "metadata": {},
   "outputs": [],
   "source": [
    "opt_result_fraction['x'][0]"
   ]
  },
  {
   "cell_type": "code",
   "execution_count": null,
   "id": "acd01511-9bdf-40d0-aba1-59730ece90d8",
   "metadata": {},
   "outputs": [],
   "source": []
  }
 ],
 "metadata": {
  "kernelspec": {
   "display_name": "Python 3 (ipykernel)",
   "language": "python",
   "name": "python3"
  },
  "language_info": {
   "codemirror_mode": {
    "name": "ipython",
    "version": 3
   },
   "file_extension": ".py",
   "mimetype": "text/x-python",
   "name": "python",
   "nbconvert_exporter": "python",
   "pygments_lexer": "ipython3",
   "version": "3.12.1"
  }
 },
 "nbformat": 4,
 "nbformat_minor": 5
}
